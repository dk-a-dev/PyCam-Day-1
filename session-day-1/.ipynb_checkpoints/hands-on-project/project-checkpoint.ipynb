{
 "cells": [
  {
   "cell_type": "code",
   "execution_count": null,
   "id": "4937cb83",
   "metadata": {},
   "outputs": [],
   "source": [
    "import pandas as pd\n",
    "import matplotlib.pyplot as plt"
   ]
  },
  {
   "cell_type": "code",
   "execution_count": null,
   "id": "7b12906c",
   "metadata": {},
   "outputs": [],
   "source": [
    "df_tracks=pd.read_csv('../../../data/artists.csv')\n",
    "df_artists=pd.read_csv('../../../data/tracks.csv')\n",
    "df_features=pd.read_csv('../../../data/SpotifyFeatures.csv')"
   ]
  },
  {
   "cell_type": "code",
   "execution_count": null,
   "id": "d25d69f4",
   "metadata": {},
   "outputs": [],
   "source": [
    "df_tracks.info()\n",
    "df_artists.info()\n",
    "df_features.info()"
   ]
  },
  {
   "cell_type": "code",
   "execution_count": null,
   "id": "85564a95",
   "metadata": {},
   "outputs": [],
   "source": [
    "df_tracks.head()"
   ]
  },
  {
   "cell_type": "code",
   "execution_count": null,
   "id": "983631a2",
   "metadata": {},
   "outputs": [],
   "source": [
    "df_artists.head()"
   ]
  },
  {
   "cell_type": "code",
   "execution_count": null,
   "id": "4580805c",
   "metadata": {},
   "outputs": [],
   "source": [
    "df_features.head()"
   ]
  },
  {
   "cell_type": "code",
   "execution_count": null,
   "id": "ff0236dd",
   "metadata": {},
   "outputs": [],
   "source": [
    "pd.isnull(df_tracks).sum()"
   ]
  },
  {
   "cell_type": "code",
   "execution_count": null,
   "id": "46bf0d5b",
   "metadata": {},
   "outputs": [],
   "source": [
    "df_tracks.describe().transpose()"
   ]
  },
  {
   "cell_type": "code",
   "execution_count": null,
   "id": "32caeb1c",
   "metadata": {},
   "outputs": [],
   "source": [
    "# now we find the top 5 songs/tracks\n",
    "df_top5tracks=df_tracks.query('popularity>90',inplace=False).sort_values('popularity',ascending=False)\n",
    "df_top5tracks[0:5]"
   ]
  },
  {
   "cell_type": "code",
   "execution_count": null,
   "id": "1a0a7fda",
   "metadata": {},
   "outputs": [],
   "source": [
    "# now we find the top 5 artists the user has listened to\n",
    "\n",
    "pd.isnull(df_tracks).sum()\n",
    "df_artists.describe().transpose()\n",
    "df_top5artists=df_artists.query('popularity>90',inplace=False).sort_values('popularity',ascending=False)\n",
    "df_top5artists[0:5]"
   ]
  },
  {
   "cell_type": "code",
   "execution_count": null,
   "id": "d16eed45",
   "metadata": {},
   "outputs": [],
   "source": [
    "print(\"Accessing specific columns of the dataframe, here we are accessing the name column of the top 5 artists\")\n",
    "print(df_top5artists.name[0:5]) # (or df_top5artists['name'][0:5])"
   ]
  },
  {
   "cell_type": "code",
   "execution_count": null,
   "id": "15474c1f",
   "metadata": {},
   "outputs": [],
   "source": [
    "# most popular genre,and tracks\n",
    "pd.isnull(df_features).sum()\n",
    "df_features.describe().transpose()\n",
    "df_mostpopgenre=df_features.query('popularity>90',inplace=False).sort_values('popularity',ascending=False)\n",
    "df_mostpopgenre[0:5]"
   ]
  },
  {
   "cell_type": "code",
   "execution_count": null,
   "id": "cf0ade6d",
   "metadata": {},
   "outputs": [],
   "source": [
    "df_mostpopgenre['track_name']"
   ]
  },
  {
   "cell_type": "code",
   "execution_count": null,
   "id": "68a2662f",
   "metadata": {},
   "outputs": [],
   "source": [
    "genre_counts = df_features['genre'].value_counts()\n",
    "genre_counts.plot(kind='bar')\n",
    "plt.xlabel('Genre')\n",
    "plt.ylabel('Number of Songs')\n",
    "plt.title('Number of Songs in Each Genre')\n",
    "plt.show()\n"
   ]
  }
 ],
 "metadata": {
  "kernelspec": {
   "display_name": ".venv",
   "language": "python",
   "name": "python3"
  },
  "language_info": {
   "codemirror_mode": {
    "name": "ipython",
    "version": 3
   },
   "file_extension": ".py",
   "mimetype": "text/x-python",
   "name": "python",
   "nbconvert_exporter": "python",
   "pygments_lexer": "ipython3",
   "version": "3.12.1"
  }
 },
 "nbformat": 4,
 "nbformat_minor": 5
}
