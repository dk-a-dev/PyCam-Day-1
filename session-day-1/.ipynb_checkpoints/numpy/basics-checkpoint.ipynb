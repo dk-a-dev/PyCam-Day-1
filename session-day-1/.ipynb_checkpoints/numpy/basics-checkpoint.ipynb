{
 "cells": [
  {
   "cell_type": "code",
   "execution_count": 1,
   "id": "6fd84e2c",
   "metadata": {},
   "outputs": [],
   "source": [
    "# Importing numpy\n",
    "import numpy as np"
   ]
  },
  {
   "cell_type": "code",
   "execution_count": 2,
   "id": "e029f420",
   "metadata": {},
   "outputs": [
    {
     "name": "stdout",
     "output_type": "stream",
     "text": [
      "[1 2 3 4 5]\n"
     ]
    }
   ],
   "source": [
    "\n",
    "# Creating a numpy array\n",
    "arr=np.array([1,2,3,4,5])\n",
    "print(arr) # printing the array"
   ]
  },
  {
   "cell_type": "code",
   "execution_count": 3,
   "id": "11a836a8",
   "metadata": {},
   "outputs": [
    {
     "name": "stdout",
     "output_type": "stream",
     "text": [
      "<class 'numpy.ndarray'>\n"
     ]
    }
   ],
   "source": [
    "# printing the type of the array\n",
    "print(type(arr)) "
   ]
  },
  {
   "cell_type": "code",
   "execution_count": 4,
   "id": "c9ec2d6f",
   "metadata": {},
   "outputs": [
    {
     "name": "stdout",
     "output_type": "stream",
     "text": [
      "0D-Array: 42\n",
      "\n",
      "1D-Array: [1 2 3 4 5]\n",
      "\n",
      "2D-Array: [[1 2 3]\n",
      " [4 5 6]]\n",
      "\n",
      "3D-Array: [[[1 2 3]\n",
      "  [4 5 6]]\n",
      "\n",
      " [[1 2 3]\n",
      "  [4 5 6]]]\n",
      "\n",
      "Dimension of arr3: 3\n",
      "\n",
      "Dimension of arr2: 2\n",
      "\n",
      "Dimension of arr1: 1\n",
      "\n",
      "Dimension of arr0: 0\n",
      "\n"
     ]
    }
   ],
   "source": [
    "# create 0-Dimensional array\n",
    "arr0=np.array(42)\n",
    "print(f\"0D-Array: {arr0}\\n\")\n",
    "\n",
    "# create 1-Dimensional array\n",
    "arr1=np.array([1,2,3,4,5])\n",
    "print(f\"1D-Array: {arr1}\\n\")\n",
    "\n",
    "# create 2-Dimensional array\n",
    "arr2=np.array([[1,2,3],[4,5,6]])\n",
    "print(f\"2D-Array: {arr2}\\n\")\n",
    "\n",
    "# An n-dimensional array means an array with n-1 dimensions as each element in itself\n",
    "\n",
    "# create 3-Dimensional array\n",
    "arr3=np.array([[[1,2,3],[4,5,6]],[[1,2,3],[4,5,6]]])\n",
    "print(f\"3D-Array: {arr3}\\n\")\n",
    "\n",
    "\n",
    "# Checking the dimension of the array\n",
    "# using ndim attribute\n",
    "print(f\"Dimension of arr3: {arr3.ndim}\\n\")\n",
    "print(f\"Dimension of arr2: {arr2.ndim}\\n\")\n",
    "print(f\"Dimension of arr1: {arr1.ndim}\\n\")\n",
    "print(f\"Dimension of arr0: {arr0.ndim}\\n\")"
   ]
  },
  {
   "cell_type": "code",
   "execution_count": 5,
   "id": "6a2442d5",
   "metadata": {},
   "outputs": [
    {
     "name": "stdout",
     "output_type": "stream",
     "text": [
      "Shape of arr0: ()\n",
      "\n",
      "Shape of arr1: (5,)\n",
      "\n",
      "Shape of arr2: (2, 3)\n",
      "\n",
      "Shape of arr3: (2, 2, 3)\n",
      "\n"
     ]
    }
   ],
   "source": [
    "# A lot pf people get confused between the shape and the dimension of the array\n",
    "# Dimension of the array is the number of elements in each axis\n",
    "# Shape of the array is the number of elements in each dimension\n",
    "\n",
    "# Checking the shape of the array\n",
    "# using shape attribute\n",
    "\n",
    "print(f\"Shape of arr0: {arr0.shape}\\n\")\n",
    "print(f\"Shape of arr1: {arr1.shape}\\n\")\n",
    "print(f\"Shape of arr2: {arr2.shape}\\n\")\n",
    "print(f\"Shape of arr3: {arr3.shape}\\n\")"
   ]
  },
  {
   "cell_type": "code",
   "execution_count": 6,
   "id": "b531f653",
   "metadata": {},
   "outputs": [
    {
     "name": "stdout",
     "output_type": "stream",
     "text": [
      "Shape of arr4: (12,)\n",
      "\n",
      "Shape of arr4 after reshaping: (4, 3)\n",
      "\n",
      "[[ 1  2  3]\n",
      " [ 4  5  6]\n",
      " [ 7  8  9]\n",
      " [10 11 12]]\n"
     ]
    },
    {
     "name": "stderr",
     "output_type": "stream",
     "text": [
      "C:\\Users\\devke\\AppData\\Local\\Temp\\ipykernel_708\\336831509.py:7: DeprecationWarning: 'cgi' is deprecated and slated for removal in Python 3.13\n",
      "  from cgi import print_form\n"
     ]
    }
   ],
   "source": [
    "# Reshaping the array\n",
    "# using reshape() method\n",
    "# Note: We can only reshape the array,\n",
    "# if the total number of elements in the array is equal \n",
    "# to the product of the number of elements in each axis\n",
    "\n",
    "from cgi import print_form\n",
    "\n",
    "\n",
    "arr4=np.array([1,2,3,4,5,6,7,8,9,10,11,12])\n",
    "print(f\"Shape of arr4: {arr4.shape}\\n\")\n",
    "arr4=arr4.reshape(4,3)\n",
    "print(f\"Shape of arr4 after reshaping: {arr4.shape}\\n\")\n",
    "print(arr4)"
   ]
  },
  {
   "cell_type": "code",
   "execution_count": 7,
   "id": "d9477149",
   "metadata": {},
   "outputs": [
    {
     "name": "stdout",
     "output_type": "stream",
     "text": [
      "Shape of arr5: (8,)\n",
      "\n",
      "Shape of arr5 after reshaping: (2, 2, 2)\n",
      "\n"
     ]
    }
   ],
   "source": [
    "# The Unknown Dimension\n",
    "# We are allowed to have one \"unknown\" dimension\n",
    "\n",
    "# Example\n",
    "# Convert 1D array with 8 elements to 3D array with 2x2 elements\n",
    "arr5=np.array([1,2,3,4,5,6,7,8])\n",
    "print(f\"Shape of arr5: {arr5.shape}\\n\")\n",
    "arr5=arr5.reshape(2,2,-1)\n",
    "print(f\"Shape of arr5 after reshaping: {arr5.shape}\\n\")"
   ]
  },
  {
   "cell_type": "code",
   "execution_count": 8,
   "id": "f701a590",
   "metadata": {},
   "outputs": [
    {
     "name": "stdout",
     "output_type": "stream",
     "text": [
      "Accessing the 2nd element of arr of dim-1: 2\n",
      "\n",
      "Accessing the 2nd element of arr of dim-2: 5\n",
      "\n",
      "Accessing the 2nd element of arr of dim-3: 5\n",
      "\n"
     ]
    }
   ],
   "source": [
    "# Accessing the elements of the array\n",
    "print(f\"Accessing the 2nd element of arr of dim-1: {arr1[1]}\\n\")\n",
    "print(f\"Accessing the 2nd element of arr of dim-2: {arr2[1][1]}\\n\")\n",
    "print(f\"Accessing the 2nd element of arr of dim-3: {arr3[1][1][1]}\\n\")"
   ]
  },
  {
   "cell_type": "code",
   "execution_count": 9,
   "id": "d8714a17",
   "metadata": {},
   "outputs": [
    {
     "name": "stdout",
     "output_type": "stream",
     "text": [
      "Slicing the array: [2 3 4]\n",
      "\n",
      "Slicing the array: [5 6]\n",
      "\n",
      "Slicing the array: [2 5]\n",
      "\n",
      "Slicing the array: [[2 3]\n",
      " [5 6]]\n",
      "\n",
      "Negative Slicing the array: [3 4]\n",
      "\n"
     ]
    }
   ],
   "source": [
    "# Slicing the array\n",
    "print(f\"Slicing the array: {arr1[1:4]}\\n\")\n",
    "print(f\"Slicing the array: {arr2[1,1:]}\\n\")\n",
    "print(f\"Slicing the array: {arr2[0:2,1]}\\n\")\n",
    "print(f\"Slicing the array: {arr2[0:2,1:3]}\\n\")\n",
    "# Negative Slicing\n",
    "print(f\"Negative Slicing the array: {arr1[-3:-1]}\\n\")"
   ]
  },
  {
   "cell_type": "code",
   "execution_count": 10,
   "id": "48980ffd",
   "metadata": {},
   "outputs": [
    {
     "name": "stdout",
     "output_type": "stream",
     "text": [
      "Data type of arr1: int32\n",
      "\n",
      "Data type of arr2: int32\n",
      "\n",
      "Data type of arr3: int32\n",
      "\n"
     ]
    }
   ],
   "source": [
    "# Data Types in Numpy\n",
    "# It has a lot of extra data types:\n",
    "# i - integer\n",
    "# b - boolean\n",
    "# u - unsigned integer\n",
    "# f - float\n",
    "# c - complex float\n",
    "# m - timedelta\n",
    "# M - datetime\n",
    "# O - object\n",
    "# S - string\n",
    "# U - unicode string\n",
    "# V - fixed chunk of memory for other type ( void )\n",
    "\n",
    "# Checking the data type of the array\n",
    "# using dtype method\n",
    "print(f\"Data type of arr1: {arr1.dtype}\\n\")\n",
    "print(f\"Data type of arr2: {arr2.dtype}\\n\")\n",
    "print(f\"Data type of arr3: {arr3.dtype}\\n\")\n",
    "\n"
   ]
  },
  {
   "cell_type": "code",
   "execution_count": 11,
   "id": "ba3cb7db",
   "metadata": {},
   "outputs": [
    {
     "ename": "ValueError",
     "evalue": "invalid literal for int() with base 10: 'a'",
     "output_type": "error",
     "traceback": [
      "\u001b[1;31m---------------------------------------------------------------------------\u001b[0m",
      "\u001b[1;31mValueError\u001b[0m                                Traceback (most recent call last)",
      "Cell \u001b[1;32mIn[11], line 5\u001b[0m\n\u001b[0;32m      1\u001b[0m \u001b[38;5;66;03m# Lets see that it can do its type conversion magic \u001b[39;00m\n\u001b[0;32m      2\u001b[0m \u001b[38;5;66;03m# dtype is set to int8 (1 byte)\u001b[39;00m\n\u001b[0;32m      3\u001b[0m \u001b[38;5;66;03m# it is passes as a parameter to the array() function\u001b[39;00m\n\u001b[1;32m----> 5\u001b[0m arr \u001b[38;5;241m=\u001b[39m \u001b[43mnp\u001b[49m\u001b[38;5;241;43m.\u001b[39;49m\u001b[43marray\u001b[49m\u001b[43m(\u001b[49m\u001b[43m[\u001b[49m\u001b[38;5;124;43m'\u001b[39;49m\u001b[38;5;124;43ma\u001b[39;49m\u001b[38;5;124;43m'\u001b[39;49m\u001b[43m,\u001b[49m\u001b[43m \u001b[49m\u001b[38;5;124;43m'\u001b[39;49m\u001b[38;5;124;43m2\u001b[39;49m\u001b[38;5;124;43m'\u001b[39;49m\u001b[43m,\u001b[49m\u001b[43m \u001b[49m\u001b[38;5;124;43m'\u001b[39;49m\u001b[38;5;124;43m3\u001b[39;49m\u001b[38;5;124;43m'\u001b[39;49m\u001b[43m]\u001b[49m\u001b[43m,\u001b[49m\u001b[43m \u001b[49m\u001b[43mdtype\u001b[49m\u001b[38;5;241;43m=\u001b[39;49m\u001b[38;5;124;43m'\u001b[39;49m\u001b[38;5;124;43mi\u001b[39;49m\u001b[38;5;124;43m'\u001b[39;49m\u001b[43m)\u001b[49m\n\u001b[0;32m      7\u001b[0m \u001b[38;5;66;03m# Numpy will throw an error if a type conversion is not possible\u001b[39;00m\n\u001b[0;32m      8\u001b[0m \u001b[38;5;66;03m# Numpy arrays have a fixed size at creation, unlike Python lists (which can grow dynamically).\u001b[39;00m\n\u001b[0;32m      9\u001b[0m \u001b[38;5;66;03m# Changing the data type of the array\u001b[39;00m\n\u001b[1;32m   (...)\u001b[0m\n\u001b[0;32m     13\u001b[0m \u001b[38;5;66;03m# print(f\"Data type of newarr: {newarr.dtype}\\n\")\u001b[39;00m\n\u001b[0;32m     14\u001b[0m \u001b[38;5;66;03m# print(f\"printing the arr: {arr}\\n\")   \u001b[39;00m\n",
      "\u001b[1;31mValueError\u001b[0m: invalid literal for int() with base 10: 'a'"
     ]
    }
   ],
   "source": [
    "# Lets see that it can do its type conversion magic \n",
    "# dtype is set to int8 (1 byte)\n",
    "# it is passes as a parameter to the array() function\n",
    "\n",
    "arr = np.array(['a', '2', '3'], dtype='i')\n",
    "\n",
    "# Numpy will throw an error if a type conversion is not possible\n",
    "# Numpy arrays have a fixed size at creation, unlike Python lists (which can grow dynamically).\n",
    "# Changing the data type of the array\n",
    "# using astype() method\n",
    "\n",
    "# newarr = arr.astype('S')\n",
    "# print(f\"Data type of newarr: {newarr.dtype}\\n\")\n",
    "# print(f\"printing the arr: {arr}\\n\")   "
   ]
  },
  {
   "cell_type": "code",
   "execution_count": null,
   "id": "1af5ca8d",
   "metadata": {},
   "outputs": [],
   "source": [
    "# Iterating Numpy Arrays\n",
    "# Iterating means going through elements one by one.\n",
    "# Using nditer() method\n",
    "\n",
    "for x in np.nditer(arr3):\n",
    "  print(x,end=\" \")\n",
    "\n",
    "# Iterating array with index,using ndenumerate() method\n",
    "for idx,x in np.ndenumerate(arr3):\n",
    "  print(idx,x)"
   ]
  },
  {
   "cell_type": "code",
   "execution_count": null,
   "id": "40aab776",
   "metadata": {},
   "outputs": [
    {
     "name": "stdout",
     "output_type": "stream",
     "text": [
      "$arr:[1 2 3 1 2 3]\n",
      "\n",
      "newarr: [array([1, 2, 3, 4]), array([5, 6, 7, 8]), array([ 9, 10, 11, 12])]\n",
      "\n",
      "x: (array([3, 5, 6], dtype=int64),)\n",
      "\n",
      "$[[2 3 4]\n",
      " [0 1 5]]\n"
     ]
    }
   ],
   "source": [
    "# Other Functions to play with Numpy Arrays:\n",
    "\n",
    "# Joining or Concatenation of two or more arrays\n",
    "# using concatenate() method or stack() method, hstack() method or vstack() method \n",
    "# Example\n",
    "arr1=np.array([1,2,3])\n",
    "arr2=np.array([1,2,3])\n",
    "arr3=np.concatenate((arr1,arr2))\n",
    "print(f\"$arr:{arr3}\\n\")\n",
    "\n",
    "# Splitting of an array\n",
    "# using split() method, hsplit() method or vsplit() method\n",
    "# Example\n",
    "arr4=np.array([1,2,3,4,5,6,7,8,9,10,11,12])\n",
    "newarr=np.array_split(arr4,3)\n",
    "print(f\"newarr: {newarr}\\n\")\n",
    "\n",
    "# Searching of an array\n",
    "# using where(<value condition>) method, \n",
    "# Example\n",
    "arr5=np.array([1,2,3,4,7,4,4])\n",
    "x=np.where(arr5==4)\n",
    "print(f\"x: {x}\\n\")\n",
    "\n",
    "# Sorting of an array\n",
    "# using sort() method\n",
    "# Example\n",
    "arr = np.array([[3, 2, 4], [5, 0, 1]])\n",
    "print(f\"{np.sort(arr)}\")"
   ]
  }
 ],
 "metadata": {
  "kernelspec": {
   "display_name": ".venv",
   "language": "python",
   "name": "python3"
  },
  "language_info": {
   "codemirror_mode": {
    "name": "ipython",
    "version": 3
   },
   "file_extension": ".py",
   "mimetype": "text/x-python",
   "name": "python",
   "nbconvert_exporter": "python",
   "pygments_lexer": "ipython3",
   "version": "3.12.1"
  }
 },
 "nbformat": 4,
 "nbformat_minor": 5
}
