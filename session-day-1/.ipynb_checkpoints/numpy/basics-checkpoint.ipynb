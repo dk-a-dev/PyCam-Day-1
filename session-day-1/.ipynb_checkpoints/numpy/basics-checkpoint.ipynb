{
 "cells": [
  {
   "cell_type": "code",
   "execution_count": 3,
   "id": "6fd84e2c",
   "metadata": {},
   "outputs": [],
   "source": [
    "### Numpy Intro:\n",
    "# - Numpy: Numerical Python\n",
    "# - Numpy was created in 2005 by Travis Oliphant.\n",
    "# - Numpy is a library for working with arrays of data.\n",
    "# - It is the fundamental package for scientific computing with Python.\n",
    "# - It contains other things:\n",
    "#     - a powerful N-dimensional array object\n",
    "#     - sophisticated (broadcasting) functions\n",
    "#     - useful linear algebra, Fourier transform, and random number capabilities\n",
    "#     - Besides its obvious scientific uses, Numpy can also be used as an efficient\n",
    "\n",
    "# - Numpy arrays are similar to Python lists.\n",
    "# - Numpy arrays are faster and more memory efficient than Python lists.\n",
    "# - It is efficient because it uses contiguous memory allocation,unlike Python lists which use pointers.\n",
    "# - Numpy arrays are homogeneous, i.e. all elements of a particular array have the same data type.\n",
    "# - It has all the functionalities of a list and more."
   ]
  },
  {
   "cell_type": "code",
   "execution_count": 2,
   "id": "8259eebf",
   "metadata": {},
   "outputs": [],
   "source": [
    "# Importing numpy\n",
    "import numpy as np"
   ]
  },
  {
   "cell_type": "code",
   "execution_count": null,
   "id": "e029f420",
   "metadata": {},
   "outputs": [],
   "source": [
    "\n",
    "# Creating a numpy array\n",
    "arr=np.array([1,2,3,4,5])\n",
    "\n",
    "# printing the type of the array\n",
    "print(type(arr)) \n",
    "lst=[1,23]\n",
    "print(type(lst))"
   ]
  },
  {
   "cell_type": "code",
   "execution_count": null,
   "id": "11a836a8",
   "metadata": {},
   "outputs": [],
   "source": [
    "print(\"Array arr: \",arr)\n",
    "# arr.setflags(write=False)\n",
    "print(\" Try to change the value at index 3:\")\n",
    "arr[3] = 11\n",
    "print(arr)"
   ]
  },
  {
   "cell_type": "code",
   "execution_count": null,
   "id": "c9ec2d6f",
   "metadata": {},
   "outputs": [],
   "source": [
    "# create 0-Dimensional array\n",
    "arr0=np.array(42)\n",
    "print(f\"0D-Array: {arr0}\\n\")\n",
    "\n",
    "# create 1-Dimensional array\n",
    "arr1=np.array([1,2,3,4,5])\n",
    "print(f\"1D-Array: {arr1}\\n\")\n",
    "\n",
    "# create 2-Dimensional array\n",
    "arr2=np.array([4,5,6[1,2,3],[]])\n",
    "print(f\"2D-Array: {arr2}\\n\")\n",
    "\n",
    "# An n-dimensional array means an array with n-1 dimensions as each element in itself\n",
    "\n",
    "# create 3-Dimensional array\n",
    "arr3=np.array([[[1,2,3],[4,5,6],[7,8,9]],[[1,2,3],[4,5,6],[7,8,9]]],dtype='complex')\n",
    "print(f\"3D-Array: {arr3}\\n\")\n",
    "\n",
    "\n",
    "# Checking the dimension of the array\n",
    "# using ndim attribute\n",
    "print(f\"Dimension of arr3: {arr3.ndim}\\n\")\n",
    "print(f\"Dimension of arr2: {arr2.ndim}\\n\")\n",
    "print(f\"Dimension of arr1: {arr1.ndim}\\n\")\n",
    "print(f\"Dimension of arr0: {arr0.ndim}\\n\")"
   ]
  },
  {
   "cell_type": "code",
   "execution_count": null,
   "id": "6a2442d5",
   "metadata": {},
   "outputs": [],
   "source": [
    "# A lot pf people get confused between the shape and the dimension of the array\n",
    "# Dimension of the array is the number of elements in each axis\n",
    "# Shape of the array is the number of elements in each dimension\n",
    "\n",
    "# Checking the shape of the array\n",
    "# using shape attribute\n",
    "\n",
    "# 0D-Array: 42\n",
    "print(f\"Shape of arr0: {arr0.shape}\\n\")\n",
    "\n",
    "# 1D-Array: [1 2 3 4 5]\n",
    "print(f\"Shape of arr1: {arr1.shape}\\n\")\n",
    "\n",
    "# 2D-Array: [[1 2 3] [4 5 6]]\n",
    "print(f\"Shape of arr2: {arr2.shape}\\n\")"
   ]
  },
  {
   "cell_type": "code",
   "execution_count": null,
   "id": "0b4b14df",
   "metadata": {},
   "outputs": [],
   "source": [
    "arr3=np.array([[[1,2,3],[4,5,6],[7,8,9]],[[1,2,3],[4,5,6],[7,8,9]]],dtype='complex')\n",
    "print(f\"Shape of arr3: {arr3.shape}\\n\")\n",
    "# Printing size (total number of elements) of array \n",
    "print(\"Size of array: \", arr3.size) "
   ]
  },
  {
   "cell_type": "code",
   "execution_count": null,
   "id": "b531f653",
   "metadata": {},
   "outputs": [],
   "source": [
    "# Reshaping the array\n",
    "# using reshape() method\n",
    "# Note: We can only reshape the array,\n",
    "# if the total number of elements in the array is equal\n",
    "# to the product of the number of elements in each axis\n",
    "\n",
    "arr4 = np.array([1, 2, 3, 4, 5, 6, 7, 8, 9, 10, 11, 12])\n",
    "print(f\"Shape of arr4: {arr4.shape}\\n\")\n",
    "arr4 = arr4.reshape(6,2)\n",
    "print(f\"Shape of arr4 after reshaping: {arr4.shape}\\n\")\n",
    "print(arr4)"
   ]
  },
  {
   "cell_type": "code",
   "execution_count": null,
   "id": "3d839e8e",
   "metadata": {},
   "outputs": [],
   "source": [
    "# Create a sequence of integers\n",
    "arr = np.arange(10, 110, 10)\n",
    "print(\"A sequential array with steps of 10:\\n\", arr)"
   ]
  },
  {
   "cell_type": "code",
   "execution_count": null,
   "id": "c8219728",
   "metadata": {},
   "outputs": [],
   "source": [
    "# Create a sequence of 20 values in range 0 to 4\n",
    "g = np.linspace(0, 20, 20)\n",
    "print(\"A sequential array with 10 values between\" \"0 and 4:\\n\", g)"
   ]
  },
  {
   "cell_type": "code",
   "execution_count": null,
   "id": "d9477149",
   "metadata": {},
   "outputs": [],
   "source": [
    "# The Unknown Dimension\n",
    "# We are allowed to have one \"unknown\" dimension\n",
    "\n",
    "# Example\n",
    "# Convert 1D array with 6 elements to 3D array with 2x? elements\n",
    "arr5=np.array([1,2,3,4,5,6,7,8,9])\n",
    "print(f\"Shape of arr5: {arr5.shape}\\n\")\n",
    "print(arr5)\n",
    "print(f\"Shape of arr5 after reshaping: {arr5.shape}\\n\")\n",
    "# Guess the dimension of the array\n",
    "print(f\"Dimension of arr5: {arr5.ndim}\\n\")"
   ]
  },
  {
   "cell_type": "code",
   "execution_count": null,
   "id": "f701a590",
   "metadata": {},
   "outputs": [],
   "source": [
    "# Accessing the elements of the array\n",
    "arr = np.array([[1,2,3],[4,5,6],[7,8,9]])\n",
    "print(f\"Accessing the 2nd element of arr of dim-1: {arr[1]}\\n\")\n",
    "print(f\"Accessing the 2nd element of arr of dim-2: {arr[2][2]}\\n\")\n",
    "print(f\"Accessing the 2nd element of arr of dim-3: {arr3[1][1][1]}\\n\")"
   ]
  },
  {
   "cell_type": "code",
   "execution_count": null,
   "id": "d8714a17",
   "metadata": {},
   "outputs": [],
   "source": [
    "# Slicing the array\n",
    "# [1,2,3,4,5]\n",
    "print(f\"Slicing the array: {arr1[1:4]}\\n\")\n",
    "\n",
    "# 2D-Array: [[1 2 3] [4 5 6]]\n",
    "print(f\"Slicing the array: {arr2[1,5:]}\\n\")"
   ]
  },
  {
   "cell_type": "code",
   "execution_count": null,
   "id": "f4f3d047",
   "metadata": {},
   "outputs": [],
   "source": [
    "# [[1 2 3]\n",
    "#  [4 5 6]]\n",
    "print(f\"Slicing the array: {arr2[0:3,1]}\\n\")\n",
    "print(f\"Slicing the array: {arr2[0:2,1:3]}\\n\")"
   ]
  },
  {
   "cell_type": "code",
   "execution_count": null,
   "id": "2ad6f28e",
   "metadata": {},
   "outputs": [],
   "source": [
    "# Negative Slicing\n",
    "print(f\"Negative Slicing the array: {arr1[-3:-1]}\\n\")"
   ]
  },
  {
   "cell_type": "code",
   "execution_count": null,
   "id": "7d905b84",
   "metadata": {},
   "outputs": [],
   "source": [
    "def letter_i(size):\n",
    "    letter_i = np.full((size, size), \" \")\n",
    "    letter_i[0, 0:] = \"_\"\n",
    "    letter_i[1, 0:] = \"_\"\n",
    "    letter_i[size - 1,0 :] = \"_\"\n",
    "    letter_i[size - 2, :] = \"_\"\n",
    "    letter_i[1:, size // 2] = \"|\"\n",
    "    letter_i[1:, (size // 2)-1] = \"|\"\n",
    "    return letter_i\n",
    "letter_i(8)\n"
   ]
  },
  {
   "cell_type": "code",
   "execution_count": null,
   "id": "fcf647ee",
   "metadata": {},
   "outputs": [],
   "source": [
    "def letter_e(size):\n",
    "    letter_e = np.full((size, size), \" \")\n",
    "    letter_e[1:, [1, 2]] = \"|\"\n",
    "    letter_e[0, 2:] = \"_\"\n",
    "    letter_e[size // 2, 3:] = \"_\"\n",
    "    letter_e[size-1, 3:] = \"_\"\n",
    "    return letter_e\n"
   ]
  },
  {
   "cell_type": "code",
   "execution_count": null,
   "id": "aaddb573",
   "metadata": {},
   "outputs": [],
   "source": [
    "\n",
    "def print_letters(word):\n",
    "    for row in word:\n",
    "        print(\" \".join(row))\n",
    "\n",
    "size = 11\n",
    "ieee_word = np.concatenate(\n",
    "    [letter_i(size), letter_e(size), letter_e(size), letter_e(size)], axis=1\n",
    ")\n",
    "\n",
    "print_letters(ieee_word)"
   ]
  },
  {
   "cell_type": "code",
   "execution_count": null,
   "id": "48980ffd",
   "metadata": {},
   "outputs": [],
   "source": [
    "# Data Types in Numpy\n",
    "# It has a lot of extra data types:\n",
    "# i - integer\n",
    "# b - boolean\n",
    "# u - unsigned integer\n",
    "# f - float\n",
    "# c - complex float\n",
    "# m - timedelta\n",
    "# M - datetime\n",
    "# O - object\n",
    "# S - string\n",
    "# U - unicode string\n",
    "# V - fixed chunk of memory for other type ( void )\n",
    "\n",
    "# Checking the data type of the array\n",
    "# using dtype method\n",
    "print(f\"Data type of arr1: {arr1.dtype}\\n\")\n",
    "print(f\"Data type of arr2: {arr2.dtype}\\n\")\n",
    "print(f\"Data type of arr3: {arr3.dtype}\\n\")"
   ]
  },
  {
   "cell_type": "code",
   "execution_count": null,
   "id": "1af5ca8d",
   "metadata": {},
   "outputs": [],
   "source": [
    "# Iterating Numpy Arrays\n",
    "# Iterating means going through elements one by one.\n",
    "# Using nditer() method\n",
    "\n",
    "for x in np.nditer(arr3):\n",
    "  print(x,end=\" \")\n",
    "  \n",
    "print()\n",
    "\n",
    "# Iterating array with index,using ndenumerate() method\n",
    "for idx,x in np.ndenumerate(arr3):\n",
    "  print(idx,x)"
   ]
  },
  {
   "cell_type": "code",
   "execution_count": null,
   "id": "40aab776",
   "metadata": {},
   "outputs": [],
   "source": [
    "# Other Functions to play with Numpy Arrays:\n",
    "\n",
    "# Joining or Concatenation of two or more arrays\n",
    "# using concatenate() method or stack() method, hstack() method or vstack() method\n",
    "# Example\n",
    "arr1 = np.array([1, 2, 3])\n",
    "arr2 = np.array([1, 2, 3])\n",
    "arr3 = np.concatenate((arr1, arr2))\n",
    "print(f\"$arr:{arr3}\\n\")"
   ]
  },
  {
   "cell_type": "code",
   "execution_count": null,
   "id": "e228f0ee",
   "metadata": {},
   "outputs": [],
   "source": [
    "# Splitting of an array\n",
    "# using split() method, hsplit() method or vsplit() method\n",
    "# Example\n",
    "arr4 = np.array([1, 2, 3, 4, 5, 6, 7, 8, 9, 10, 11, 12])\n",
    "newarr = np.array_split(arr4, 5)\n",
    "print(f\"newarr: {newarr}\\n\")"
   ]
  },
  {
   "cell_type": "code",
   "execution_count": null,
   "id": "fec21706",
   "metadata": {},
   "outputs": [],
   "source": [
    "# Searching of an array\n",
    "# using where(<value condition>) method,\n",
    "# Example\n",
    "arr5 = np.array([1, 2, 3, 4, 7, 4, 4])\n",
    "x = np.where(arr5 == 4)\n",
    "print(f\"x: {x}\\n\")"
   ]
  },
  {
   "cell_type": "code",
   "execution_count": null,
   "id": "1770cab5",
   "metadata": {},
   "outputs": [],
   "source": [
    "# Sorting of an array\n",
    "# using sort() method\n",
    "# Example\n",
    "arr = np.array([[3, 2, 4], [5, 0, 1]])\n",
    "print(f\"{np.sort(arr)}\")"
   ]
  },
  {
   "cell_type": "code",
   "execution_count": null,
   "id": "b616aae0",
   "metadata": {},
   "outputs": [],
   "source": [
    "# Creating a 3X4 array with all zeros\n",
    "c = np.zeros((3, 4))\n",
    "print(\"An array initialized with all zeros:\\n\", c)"
   ]
  },
  {
   "cell_type": "code",
   "execution_count": null,
   "id": "b4380b5a",
   "metadata": {},
   "outputs": [],
   "source": [
    "# Create a constant value array of complex type\n",
    "d = np.full((2, 3), 6+1j, dtype=\"complex\")\n",
    "print(\"An array initialized with all 6s.\" \"Array type is complex:\\n\", d)"
   ]
  },
  {
   "cell_type": "code",
   "execution_count": null,
   "id": "e591ff94",
   "metadata": {},
   "outputs": [],
   "source": [
    "arr = np.array([[1, 5, 6], [4, 7, 2], [3, 1, 9]])\n",
    "\n",
    "# maximum element of array\n",
    "print(\"Largest element is:\", arr.max())\n",
    "print(\"arr dim\",arr.ndim)\n",
    "print(\"column-wise maximum elements:\", arr.max(axis=0))\n",
    "\n",
    "# minimum element of array\n",
    "print(\"Column-wise minimum elements:\", arr.min(axis=0))\n",
    "\n",
    "# sum of array elements\n",
    "print(\"Sum of all array elements:\", arr.sum())\n",
    "\n",
    "# cumulative sum along each row\n",
    "print(\"Cumulative sum along each row:\\n\", arr.cumsum(axis=1))"
   ]
  },
  {
   "cell_type": "code",
   "execution_count": null,
   "id": "f4d5d3db",
   "metadata": {},
   "outputs": [],
   "source": [
    "# Create an array with random values\n",
    "e = np.random.random((2, 2, 3))\n",
    "print(\"A random array:\\n\", e)\n",
    "\n",
    "c = np.random.rand(2, 2, 3, 2)\n",
    "print(c)"
   ]
  },
  {
   "cell_type": "code",
   "execution_count": null,
   "id": "c9bdc9fa",
   "metadata": {},
   "outputs": [],
   "source": [
    "# 2x + 3y + z = 12\n",
    "# 4x - 2y + 3z = 8\n",
    "# x + 5y - 2z = 10"
   ]
  },
  {
   "cell_type": "code",
   "execution_count": null,
   "id": "eb7e5e86",
   "metadata": {},
   "outputs": [],
   "source": [
    "# More Operations and Applicataions of Numpy\n",
    "\n",
    "print(\"# Addition, Subtraction, Multiplication, Division\")\n",
    "result_add = np.add(3, 4)\n",
    "result_subtract = np.subtract(8, 5)\n",
    "result_multiply = np.multiply(2, 6)\n",
    "result_divide = np.divide(9, 3)\n",
    "\n",
    "print(result_add, result_subtract, result_multiply, result_divide,'\\n')\n",
    "\n",
    "print(\"# Exponential and Logarithmic Functions\")\n",
    "result_exp = np.exp(2)\n",
    "result_log = np.log(10)\n",
    "result_log10 = np.log10(100)\n",
    "\n",
    "print(result_exp, result_log, result_log10,'\\n')\n",
    "\n",
    "print(\"# Trigonometric Functions\")\n",
    "result_sin = np.sin(np.pi/2)\n",
    "result_cos = np.cos(0)\n",
    "result_tan = np.tan(np.pi/4)\n",
    "print(result_sin, result_cos, result_tan,'\\n')\n",
    "\n",
    "\n",
    "print(\"# Matrix Multiplication\")\n",
    "matrix_a = np.array([[1, 2], [3, 4]])\n",
    "matrix_b = np.array([[5, 6], [7, 8]])\n",
    "result_multiply_matrices = np.dot(matrix_a, matrix_b)\n",
    "print(result_multiply_matrices,'\\n')\n",
    "\n",
    "print(\"# Transpose of a Matrix\")\n",
    "result_transpose = np.transpose(matrix_a)\n",
    "print(result_transpose,'\\n')\n",
    "\n",
    "print(\"# Mean, Median, Standard Deviation\")\n",
    "data = np.array([2, 3, 5, 7, 11])\n",
    "result_mean = np.mean(data)\n",
    "result_median = np.median(data)\n",
    "result_std = np.std(data)\n",
    "print(result_mean, result_median, result_std,'\\n')\n",
    "\n",
    "# Image Processing and signal processing\n",
    "# from scipy.signal import convolve2d\n",
    "# # Convolution\n",
    "# image = np.array([[1, 2, 1], [0, 0, 0], [-1, -2, -1]])\n",
    "# kernel = np.array([[1, 0, -1], [2, 0, -2], [1, 0, -1]])\n",
    "# result_convolution = convolve2d(image, kernel, mode='valid')\n",
    "\n",
    "# print(result_convolution)"
   ]
  }
 ],
 "metadata": {
  "kernelspec": {
   "display_name": ".venv",
   "language": "python",
   "name": "python3"
  },
  "language_info": {
   "codemirror_mode": {
    "name": "ipython",
    "version": 3
   },
   "file_extension": ".py",
   "mimetype": "text/x-python",
   "name": "python",
   "nbconvert_exporter": "python",
   "pygments_lexer": "ipython3",
   "version": "3.12.1"
  }
 },
 "nbformat": 4,
 "nbformat_minor": 5
}
