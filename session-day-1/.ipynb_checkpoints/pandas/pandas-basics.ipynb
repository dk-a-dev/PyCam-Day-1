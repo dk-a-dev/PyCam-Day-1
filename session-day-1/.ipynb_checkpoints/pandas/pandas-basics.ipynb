{
 "cells": [
  {
   "cell_type": "code",
   "execution_count": null,
   "id": "1be1136e",
   "metadata": {},
   "outputs": [],
   "source": [
    "#importing pandas module\n",
    "import pandas as pd"
   ]
  },
  {
   "cell_type": "code",
   "execution_count": null,
   "id": "e89c7dfd",
   "metadata": {},
   "outputs": [],
   "source": [
    "#Series\n",
    "pd.Series([1,2,3])"
   ]
  },
  {
   "cell_type": "code",
   "execution_count": null,
   "id": "338bbacc",
   "metadata": {},
   "outputs": [],
   "source": [
    "#DataFrames\n",
    "pd.DataFrame([1,2,3])"
   ]
  },
  {
   "cell_type": "code",
   "execution_count": null,
   "id": "a10c3ab5",
   "metadata": {},
   "outputs": [],
   "source": [
    "d={\"Name\":['Aadi','Krishanu','soham','aishwarya'],\"Age\":[19,20,18,20]}\n",
    "pd.DataFrame(d)"
   ]
  },
  {
   "cell_type": "code",
   "execution_count": null,
   "id": "00ccf0ba",
   "metadata": {},
   "outputs": [],
   "source": [
    "#now see the difference between series and Dataframes\n",
    "pd.Series(d)"
   ]
  },
  {
   "cell_type": "code",
   "execution_count": null,
   "id": "b5d5f4fd",
   "metadata": {},
   "outputs": [],
   "source": [
    "#indexing series \n",
    "series=pd.Series(['kolkata','Chennai','Bengaluru','mumbai'])"
   ]
  },
  {
   "cell_type": "code",
   "execution_count": null,
   "id": "dce1d219",
   "metadata": {},
   "outputs": [],
   "source": [
    "series.index=['City1','City2','City3','City4']"
   ]
  },
  {
   "cell_type": "code",
   "execution_count": null,
   "id": "c3fe92b1",
   "metadata": {},
   "outputs": [],
   "source": [
    "print(series)"
   ]
  },
  {
   "cell_type": "code",
   "execution_count": null,
   "id": "0451b45e",
   "metadata": {},
   "outputs": [],
   "source": [
    "#indexing dataframes\n",
    "dataset={\"day\":[1,2,3],\"time\":[10,11,12]}\n",
    "myvar2=pd.DataFrame(dataset,index=[\"day1\",\"day2\",\"day3\"])\n",
    "print(myvar2)"
   ]
  },
  {
   "cell_type": "code",
   "execution_count": null,
   "id": "4f220913",
   "metadata": {},
   "outputs": [],
   "source": [
    "#viewing datafiles\n",
    "data=pd.read_csv(\"../../../data/nba.csv\")"
   ]
  },
  {
   "cell_type": "code",
   "execution_count": null,
   "id": "24909da7",
   "metadata": {},
   "outputs": [],
   "source": [
    "data.head() #returns the first five rows of the dataset"
   ]
  },
  {
   "cell_type": "code",
   "execution_count": null,
   "id": "697b3189",
   "metadata": {},
   "outputs": [],
   "source": [
    "data.tail() #returns last five rows of the dataset"
   ]
  },
  {
   "cell_type": "code",
   "execution_count": null,
   "id": "11b6a75d",
   "metadata": {},
   "outputs": [],
   "source": [
    "data.describe() #provides statistics on the data file"
   ]
  },
  {
   "cell_type": "code",
   "execution_count": null,
   "id": "be982fce",
   "metadata": {},
   "outputs": [],
   "source": [
    "data.dropna(inplace=False)#drops null values "
   ]
  },
  {
   "cell_type": "code",
   "execution_count": null,
   "id": "e5d9b8a4",
   "metadata": {},
   "outputs": [],
   "source": [
    "desc=data[\"Name\"].describe()"
   ]
  },
  {
   "cell_type": "code",
   "execution_count": null,
   "id": "b84ee76d",
   "metadata": {},
   "outputs": [],
   "source": [
    "desc"
   ]
  },
  {
   "cell_type": "code",
   "execution_count": null,
   "id": "665e5e89",
   "metadata": {},
   "outputs": [],
   "source": [
    "#retrieiving data from rows\n",
    "data1=pd.read_csv(\"C:/Users/aadi1/downloads/nba.csv\",index_col=\"Name\")#mentioning the column from which rows are being accessed\n",
    "\n",
    "first=data1.loc[\"Jae Crowder\"]\n",
    "second=data1.loc[\"Rodney Hood\"]\n",
    "\n",
    "print(first, \"\\n\\n\\n\" , second)"
   ]
  },
  {
   "cell_type": "code",
   "execution_count": null,
   "id": "31c07160",
   "metadata": {},
   "outputs": [],
   "source": [
    "rows=data1.loc[[\"Jae Crowder\",\"Rodney Hood\"]]"
   ]
  },
  {
   "cell_type": "code",
   "execution_count": null,
   "id": "8a1f4118",
   "metadata": {},
   "outputs": [],
   "source": [
    "print(type(rows))"
   ]
  },
  {
   "cell_type": "code",
   "execution_count": null,
   "id": "5651c9fe",
   "metadata": {},
   "outputs": [],
   "source": [
    "rows"
   ]
  },
  {
   "cell_type": "code",
   "execution_count": null,
   "id": "72ff437a",
   "metadata": {},
   "outputs": [],
   "source": [
    "rows.describe()#various operations can be performed here"
   ]
  }
 ],
 "metadata": {
  "kernelspec": {
   "display_name": "Python 3 (ipykernel)",
   "language": "python",
   "name": "python3"
  },
  "language_info": {
   "codemirror_mode": {
    "name": "ipython",
    "version": 3
   },
   "file_extension": ".py",
   "mimetype": "text/x-python",
   "name": "python",
   "nbconvert_exporter": "python",
   "pygments_lexer": "ipython3",
   "version": "3.12.1"
  }
 },
 "nbformat": 4,
 "nbformat_minor": 5
}
