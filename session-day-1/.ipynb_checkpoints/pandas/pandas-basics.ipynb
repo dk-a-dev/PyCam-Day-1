{
 "cells": [
  {
   "cell_type": "code",
   "execution_count": null,
   "metadata": {},
   "outputs": [],
   "source": [
    "#Lets get started with hands on session regarding Pandas libraries in Python"
   ]
  },
  {
   "cell_type": "code",
   "execution_count": null,
   "metadata": {},
   "outputs": [],
   "source": [
    "import pandas as pd"
   ]
  },
  {
   "cell_type": "code",
   "execution_count": null,
   "metadata": {},
   "outputs": [],
   "source": [
    "#creating series\n",
    "test=pd.Series()"
   ]
  },
  {
   "cell_type": "code",
   "execution_count": null,
   "metadata": {},
   "outputs": [],
   "source": [
    "#creating series from a list\n",
    "a=[\"Aadi\",\"Dev\"]\n",
    "test_ser=pd.Series(a)\n",
    "test_ser\n",
    "\n",
    "d={'Aadi':'22BEC0251','Dev':'22BCT0453'}\n",
    "test_ser=pd.Series(d)\n",
    "test_ser"
   ]
  },
  {
   "cell_type": "code",
   "execution_count": null,
   "metadata": {},
   "outputs": [],
   "source": [
    "b=[1.2,2.34]\n",
    "ser2=pd.Series(b)\n",
    "ser2"
   ]
  },
  {
   "cell_type": "code",
   "execution_count": null,
   "metadata": {},
   "outputs": [],
   "source": [
    "#indexing elements of a series \n",
    "b=pd.Series(['Aaditya','Dev','Varun'],index=['22BEC0251','22BEC0002','21BCE0045'])\n",
    "c=pd.Series([1,2,3])\n",
    "c.index=['first','second','third']\n",
    "c"
   ]
  },
  {
   "cell_type": "code",
   "execution_count": null,
   "metadata": {},
   "outputs": [],
   "source": [
    "#from here on we will be using a sample csv file to perform series as well as data frame operations\n",
    "\n",
    "data=pd.read_csv('./nba (1).csv',index_col=\"Name\")\n",
    "data.tail()"
   ]
  },
  {
   "cell_type": "code",
   "execution_count": null,
   "metadata": {},
   "outputs": [],
   "source": [
    "data.dropna(inplace=True)\n",
    "data.tail()"
   ]
  },
  {
   "cell_type": "code",
   "execution_count": null,
   "metadata": {},
   "outputs": [],
   "source": [
    "data[\"Salary\"]=data[\"Salary\"].astype(str)\n",
    "data[\"Salary(int)\"]=data[\"Salary\"].str.slice(0,-2,1)\n",
    "data.head(10)"
   ]
  },
  {
   "cell_type": "code",
   "execution_count": null,
   "metadata": {},
   "outputs": [],
   "source": [
    "#slicing series\n",
    "data.dropna(inplace = True)  #dropping null values\n",
    "# converting to string data type \n",
    "data[\"Salary\"]= data[\"Salary\"].astype(str) \n",
    "  \n",
    "# slicing till 2nd last element \n",
    "data[\"Salary (int)\"]= data[\"Salary\"].str.slice(0,-2,1)  \n",
    "data.head(10)"
   ]
  },
  {
   "cell_type": "code",
   "execution_count": null,
   "metadata": {},
   "outputs": [],
   "source": [
    "data={'b':'MUFC','c':'MCFC','a':'LFC'}\n",
    "s1=pd.Series(data)\n",
    "sorted_s1=s1.sort_index()\n",
    "sorted_s1"
   ]
  },
  {
   "cell_type": "code",
   "execution_count": null,
   "metadata": {},
   "outputs": [],
   "source": [
    "newdata={'MUFC':1,'LFC':3,'MCFC':2}\n",
    "s2=pd.Series(newdata)\n",
    "sorted_s2=s2.sort_values()\n",
    "sorted_s2"
   ]
  },
  {
   "cell_type": "code",
   "execution_count": null,
   "metadata": {},
   "outputs": [],
   "source": [
    "#sorting series\n",
    "# (i) by index\n",
    "data = {'b': 1, 'a': 2, 'c': 3}# Create a sample Series\n",
    "series = pd.Series(data)\n",
    "\n",
    "# Sort the index in ascending order\n",
    "sorted_series = series.sort_index()\n",
    "sorted_series\n"
   ]
  },
  {
   "cell_type": "code",
   "execution_count": null,
   "metadata": {},
   "outputs": [],
   "source": [
    "#sorting by values\n",
    "sorted_series = series.sort_values()\n",
    "sorted_series\n",
    "#for descending\n",
    "#sorted_series_desc = series.sort_values(ascending=False)\n",
    "#print(sorted_series_desc)"
   ]
  },
  {
   "cell_type": "code",
   "execution_count": null,
   "metadata": {},
   "outputs": [],
   "source": [
    "#DATA FRAMES"
   ]
  },
  {
   "cell_type": "code",
   "execution_count": null,
   "metadata": {},
   "outputs": [],
   "source": [
    "#creating data frames\n",
    "lst=[\"A\",\"B\",\"C\"]\n",
    "df=pd.DataFrame(lst)\n",
    "df"
   ]
  },
  {
   "cell_type": "code",
   "execution_count": null,
   "metadata": {},
   "outputs": [],
   "source": [
    "data={'NAME':['AADITYA VS','VARUN SUDHIR','DEV KESHWANI','SAI SAHITH'],'Age':[19,20,20,21]}\n",
    "df=pd.DataFrame(data)\n",
    "df\n",
    "dict = {'name':[\"aparna\", \"pankaj\", \"sudhir\", \"Geeku\"],'degree': [\"MBA\", \"BCA\", \"M.Tech\", \"MBA\"],'score':[90, 40, 80, 98]}\n",
    "df = pd.DataFrame(dict)\n",
    "df"
   ]
  },
  {
   "cell_type": "code",
   "execution_count": null,
   "metadata": {},
   "outputs": [],
   "source": [
    "#data viewing in dataFrames\n",
    "data=pd.read_csv('./nba (1).csv')"
   ]
  },
  {
   "cell_type": "code",
   "execution_count": null,
   "metadata": {},
   "outputs": [],
   "source": [
    "data.describe().transpose()"
   ]
  },
  {
   "cell_type": "code",
   "execution_count": null,
   "metadata": {},
   "outputs": [],
   "source": [
    "data.info()"
   ]
  },
  {
   "cell_type": "code",
   "execution_count": null,
   "metadata": {},
   "outputs": [],
   "source": [
    "rows=['KANKDNZ','poNDKNSND']\n",
    "columns=['asas','asas']\n"
   ]
  },
  {
   "cell_type": "code",
   "execution_count": null,
   "metadata": {},
   "outputs": [],
   "source": [
    "#viewing data frames\n",
    "data.head()\n",
    "data.tail()\n",
    "data.describe()\n",
    "\n",
    "#getting info on data\n",
    "data.info()"
   ]
  },
  {
   "cell_type": "code",
   "execution_count": null,
   "metadata": {},
   "outputs": [],
   "source": [
    "#adding columns in data frames\n",
    "data['newSalary']=0\n",
    "data"
   ]
  },
  {
   "cell_type": "code",
   "execution_count": null,
   "metadata": {},
   "outputs": [],
   "source": [
    "#dropping columns\n",
    "data.drop([\"Number\"],axis=1,inplace=True)\n",
    "data"
   ]
  },
  {
   "cell_type": "code",
   "execution_count": null,
   "metadata": {},
   "outputs": [],
   "source": [
    "data.drop([\"R.J. Hunter\"],axis=0,inplace=True)\n",
    "data"
   ]
  },
  {
   "cell_type": "code",
   "execution_count": null,
   "metadata": {},
   "outputs": [],
   "source": [
    "print(data) #the columns mentioned have been dropped"
   ]
  },
  {
   "cell_type": "code",
   "execution_count": null,
   "metadata": {},
   "outputs": [],
   "source": [
    "data"
   ]
  },
  {
   "cell_type": "code",
   "execution_count": null,
   "metadata": {},
   "outputs": [],
   "source": [
    "#selection,slicing of rows\n",
    "first=data.iloc[0]\n",
    "#selecting multiple rows\n",
    "first = data.iloc[[0,1]] \n",
    "print(first)\n",
    "#selecting multiple rows and columns\n",
    "first = data.loc[[\"Avery Bradley\", \"R.J. Hunter\"], [\"Team\", \"Number\", \"Position\"]]\n",
    "#print()"
   ]
  },
  {
   "cell_type": "code",
   "execution_count": null,
   "metadata": {},
   "outputs": [],
   "source": [
    "sampdata=pd.read_csv(\"./nba (1).csv\",index_col=\"Name\")\n",
    "sampdata"
   ]
  },
  {
   "cell_type": "code",
   "execution_count": null,
   "metadata": {},
   "outputs": [],
   "source": [
    "#s=sampdata.iloc[\"Avery Bradley\"] try running this. you will get error. now change the indexing to integer.\n",
    "print(s) #this shows the difference between iloc and loc function in selecting rows in data frames"
   ]
  },
  {
   "cell_type": "code",
   "execution_count": null,
   "metadata": {},
   "outputs": [],
   "source": [
    "import pandas as pd\n",
    "\n",
    "a=[1,2,3,4]\n",
    "b=[3,4,5]\n",
    "df1=pd.DataFrame(a)\n",
    "df2=pd.DataFrame(b)\n",
    "df1+df2\n",
    "df1-df2\n",
    "df1/df2\n",
    "#df1=pd.DataFrame(a,index=['a','b','c'])\n",
    "#df2=pd.DataFrame(b,index=['d','e','f'])\n",
    "#df1+df2"
   ]
  }
 ],
 "metadata": {
  "kernelspec": {
   "display_name": "base",
   "language": "python",
   "name": "python3"
  },
  "language_info": {
   "codemirror_mode": {
    "name": "ipython",
    "version": 3
   },
   "file_extension": ".py",
   "mimetype": "text/x-python",
   "name": "python",
   "nbconvert_exporter": "python",
   "pygments_lexer": "ipython3",
   "version": "3.9.13"
  }
 },
 "nbformat": 4,
 "nbformat_minor": 2
}
