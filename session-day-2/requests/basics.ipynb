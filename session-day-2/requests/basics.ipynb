{
 "cells": [
  {
   "cell_type": "code",
   "execution_count": null,
   "id": "81d87e78-26a1-4cd9-9688-d289fd77bcd8",
   "metadata": {},
   "outputs": [],
   "source": [
    "# Requets library in Python is used to send HTTP requests,\n",
    "# what is a HTTP request?... It's a way to communicate to a server\n",
    "# and ask for information, so the server can respond with the information\n",
    "# that was requested.\n",
    "# in more simple terms requests simplifies the complexity of making requests\n",
    "# to servers and handling the response.\n",
    "\n",
    "# Application:\n",
    "# - Web Scraping\n",
    "# - Web Development\n",
    "    # Communicate with APIs( Application Programming Interface)\n",
    "    # or other web services\n",
    "    # processing JSON data(JavaScript Object Notation)(format of a data)\n"
   ]
  },
  {
   "cell_type": "code",
   "execution_count": null,
   "id": "fc5e03df",
   "metadata": {},
   "outputs": [],
   "source": [
    "# importing the module\n",
    "import requests as rq"
   ]
  },
  {
   "cell_type": "code",
   "execution_count": null,
   "id": "a808fb9e",
   "metadata": {},
   "outputs": [],
   "source": [
    "# Making a requests\n",
    "# get() method is used to make a request to a server\n",
    "# and get the response from it.\n",
    "\n",
    "# In simple terms to get the data form a server\n",
    "\n",
    "# get() method takes one argument, the URL of the server\n",
    "# from which we want to get the data\n",
    "\n",
    "response = rq.get('https://www.google.com/')\n",
    "print(response.status_code, response.ok)\n",
    "\n",
    "# response variable is an object of the class Response\n",
    "# it is a object for inspecting the result of the request\n",
    "\n",
    "# You might be wondering what is status code and what is ok method \n",
    "# status code is a number that tells us if the request was successful or not\n",
    "# from 100-199 is informational\n",
    "# from 200-299 is success\n",
    "# from 300-399 is redirection\n",
    "# from 400-499 is client error\n",
    "# from 500-599 is server error\n",
    "\n",
    "# Some of the most common status codes are:\n",
    "# 200 OK\n",
    "# 404 Not Found\n",
    "# 403 Forbidden\n",
    "# 418 I'm a teapot(Yes, this is actually a valid status code)\n",
    "# 500 Internal Server Error"
   ]
  },
  {
   "cell_type": "code",
   "execution_count": null,
   "id": "f77b4b86",
   "metadata": {},
   "outputs": [],
   "source": [
    "# A Get requests has some other useful attributes\n",
    "# like headers, payload, cookies, etc.\n",
    "\n",
    "# Headers are the information that the browser sends to the server\n",
    "print(\"Headers: \",response.headers)"
   ]
  },
  {
   "cell_type": "code",
   "execution_count": null,
   "id": "7e70b539",
   "metadata": {},
   "outputs": [],
   "source": [
    "# Payload is the information that we send to the server in the body of the request\n",
    "print(\"Payload: \",response.request.body)"
   ]
  },
  {
   "cell_type": "code",
   "execution_count": null,
   "id": "9c75543a",
   "metadata": {},
   "outputs": [],
   "source": [
    "# Cookies are the information that the server sends to the browser to identify the user\n",
    "print(\"Cookies: \",response.cookies)"
   ]
  },
  {
   "cell_type": "code",
   "execution_count": null,
   "id": "a1453877",
   "metadata": {},
   "outputs": [],
   "source": [
    "response=rq.get(\n",
    "    'https://api.github.com/search/repositories',\n",
    "    params=[('q', 'requests+language:python')],\n",
    ")\n",
    "json_response = response.json()\n",
    "repository = json_response['items'][0]\n",
    "print(f'Repository name: {repository[\"name\"]}')\n",
    "print(f'Repository description: {repository[\"description\"]}') \n"
   ]
  },
  {
   "cell_type": "code",
   "execution_count": null,
   "id": "bbdd6631",
   "metadata": {},
   "outputs": [],
   "source": [
    "# Other HTTP methods\n",
    "# GET method is used to retrieve information from the given server using a given URI.\n",
    "# POST method is used to send data to the server to create/update a resource.\n",
    "# PUT method is used to update resource available on the server.\n",
    "# DELETE method is used to delete the resource from the server."
   ]
  }
 ],
 "metadata": {
  "kernelspec": {
   "display_name": "Python 3 (ipykernel)",
   "language": "python",
   "name": "python3"
  },
  "language_info": {
   "codemirror_mode": {
    "name": "ipython",
    "version": 3
   },
   "file_extension": ".py",
   "mimetype": "text/x-python",
   "name": "python",
   "nbconvert_exporter": "python",
   "pygments_lexer": "ipython3",
   "version": "3.12.1"
  }
 },
 "nbformat": 4,
 "nbformat_minor": 5
}
