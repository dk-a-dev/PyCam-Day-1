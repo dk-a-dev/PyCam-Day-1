{
 "cells": [
  {
   "cell_type": "code",
   "execution_count": null,
   "id": "81d87e78-26a1-4cd9-9688-d289fd77bcd8",
   "metadata": {},
   "outputs": [],
   "source": [
    "'''\n",
    "Basics of Web Development with Python and Flask\n",
    "So lets start with...\n",
    "WebPage: a simple HTML page that can be accessed through the internet\n",
    "WebSite: a collection of webpages\n",
    "WebApp: a website that has some functionality\n",
    "'''"
   ]
  },
  {
   "cell_type": "code",
   "execution_count": null,
   "id": "b2987d52",
   "metadata": {},
   "outputs": [],
   "source": [
    "# Lets look now what ar URL,a port , a host and a domain(ip address)\n",
    "# URL: Uniform Resource Locator, is the address of a resource on the internet\n",
    "# Port: is a number that identifies a specific process on a computer\n",
    "# Host: is a computer that is connected to a network\n",
    "# Domain: is a human-readable address of a website\n",
    "# IP Address: is a unique string of numbers separated by periods that identifies each computer using the Internet Protocol to communicate over a network"
   ]
  },
  {
   "cell_type": "code",
   "execution_count": null,
   "id": "4deedd4d",
   "metadata": {},
   "outputs": [],
   "source": [
    "# Rendering of Web pages\n",
    "\"\"\"Server-Side Rendering (SSR):\n",
    "Imagine a restaurant where the chef prepares the entire dish in the kitchen and brings it to your table ready to eat.\n",
    "\n",
    "Example: HTML Cake\n",
    "\n",
    "The waiter (server) brings a fully baked cake (HTML page) to your table (browser).\n",
    "The server processes the request, generates the HTML, and sends the complete page to the browser.\"\"\"\n",
    "\n",
    "\"\"\"Client-Side Rendering (CSR):\n",
    "Now, imagine a buffet where you get an empty plate, and the dishes are assembled at the table using ingredients brought in separately.\n",
    "\n",
    "Example: JavaScript Ice Cream Sundae\n",
    "\n",
    "The waiter (server) brings ingredients (JavaScript, data) to your table (browser).\n",
    "The browser assembles and creates an ice cream sundae (HTML page) at the table using the ingredients.\"\"\""
   ]
  },
  {
   "cell_type": "code",
   "execution_count": 5,
   "id": "edd523cd",
   "metadata": {},
   "outputs": [
    {
     "name": "stdout",
     "output_type": "stream",
     "text": [
      "200 True\n"
     ]
    }
   ],
   "source": [
    "# HTTP Requests\n",
    "\n",
    "import requests as rq\n",
    "\n",
    "# Making a requests\n",
    "# get() method is used to make a request to a server\n",
    "# and get the response from it.\n",
    "\n",
    "# In simple terms to get the data form a server\n",
    "\n",
    "# get() method takes one argument, the URL of the server\n",
    "# from which we want to get the data\n",
    "\n",
    "response = rq.get('https://www.google.com/')\n",
    "print(response.status_code, response.ok)\n",
    "\n",
    "# response variable is an object of the class Response\n",
    "# it is a object for inspecting the result of the request\n",
    "\n",
    "# You might be wondering what is status code\n",
    "# status code is a number that tells us if the request was successful or not\n",
    "# from 100-199 is informational\n",
    "# from 200-299 is success\n",
    "# from 300-399 is redirection\n",
    "# from 400-499 is client error\n",
    "# from 500-599 is server error\n",
    "\n",
    "# Some of the most common status codes are:\n",
    "# 200 OK\n",
    "# 404 Not Found\n",
    "# 403 Forbidden\n",
    "# 418 I'm a teapot(Yes, this is actually a valid status code)\n",
    "# 500 Internal Server Error\n"
   ]
  },
  {
   "cell_type": "code",
   "execution_count": null,
   "id": "59487973",
   "metadata": {},
   "outputs": [],
   "source": [
    "resp=rq.get(\n",
    "    'https://github.com/search',\n",
    "    params=[('q', 'ieee-vit'), ('type', 'Repositories')],\n",
    ")\n",
    "json_response = resp.json()\n",
    "print(json_response)"
   ]
  },
  {
   "cell_type": "code",
   "execution_count": null,
   "id": "f80feaae",
   "metadata": {},
   "outputs": [],
   "source": [
    "resp.cookies"
   ]
  },
  {
   "cell_type": "code",
   "execution_count": null,
   "id": "d976f479",
   "metadata": {},
   "outputs": [],
   "source": [
    "# 2. POST Requests\n",
    "# post() method is used to send data to a server to create or update a resource\n",
    "# post() method takes two arguments, the URL of the server and a dictionary containing the data we want to send in the request\n",
    "#  Example: Sending a form data to a server\n",
    "\n",
    "response = rq.post(\n",
    "    'https://httpbin.org/post',\n",
    "    data={'greet': 'hi'},\n",
    ")\n",
    "response.json()\n",
    "# response.status_code"
   ]
  },
  {
   "cell_type": "code",
   "execution_count": null,
   "id": "81561a4b",
   "metadata": {},
   "outputs": [],
   "source": [
    "print(\"Payload: \",response.request.body)"
   ]
  },
  {
   "cell_type": "code",
   "execution_count": null,
   "id": "58b505ab",
   "metadata": {},
   "outputs": [],
   "source": [
    "# 3. PUT Requests\n",
    "# put() method is used to send data to a server to create or update a resource\n",
    "# put() method takes two arguments, the URL of the server and a dictionary\n",
    "# containing the data we want to send in the request\n",
    "# Example: Updating a resource on a server\n",
    "\n",
    "response = rq.put(\n",
    "    'https://httpbin.org/put',\n",
    "    data={'greet': 'bye'},\n",
    ")\n",
    "response.json()"
   ]
  },
  {
   "cell_type": "code",
   "execution_count": null,
   "id": "7fb267c5",
   "metadata": {},
   "outputs": [],
   "source": [
    "# 4. DELETE Requests\n",
    "# delete() method is used to delete a resource from a server\n",
    "# delete() method takes one argument, the URL of the server\n",
    "# from which we want to delete the data\n",
    "# Example: Deleting a resource on a server\n",
    "\n",
    "response = rq.delete('https://httpbin.org/delete')\n",
    "response.json()"
   ]
  }
 ],
 "metadata": {
  "kernelspec": {
   "display_name": "Python 3 (ipykernel)",
   "language": "python",
   "name": "python3"
  },
  "language_info": {
   "codemirror_mode": {
    "name": "ipython",
    "version": 3
   },
   "file_extension": ".py",
   "mimetype": "text/x-python",
   "name": "python",
   "nbconvert_exporter": "python",
   "pygments_lexer": "ipython3",
   "version": "3.12.1"
  }
 },
 "nbformat": 4,
 "nbformat_minor": 5
}
